{
 "cells": [
  {
   "cell_type": "code",
   "execution_count": 1,
   "metadata": {
    "collapsed": true,
    "ExecuteTime": {
     "end_time": "2023-06-28T03:44:57.472349Z",
     "start_time": "2023-06-28T03:44:56.637323Z"
    }
   },
   "outputs": [],
   "source": [
    "import matplotlib.pyplot as plt\n",
    "# Load libraries\n",
    "import pandas as pd"
   ]
  },
  {
   "cell_type": "code",
   "execution_count": 2,
   "outputs": [],
   "source": [
    "# Leer el archivo .txt\n",
    "df = pd.read_csv('mgck_1.txt', sep='\\s+', comment='#')\n",
    "print(df)\n",
    "# Guardar el DataFrame en un archivo .csv\n",
    "# df.to_csv('archivo.csv', sep=',', index=False, index_label='')"
   ],
   "metadata": {
    "collapsed": false,
    "ExecuteTime": {
     "end_time": "2023-06-28T03:45:01.496581Z",
     "start_time": "2023-06-28T03:44:59.756106Z"
    }
   }
  },
  {
   "cell_type": "code",
   "execution_count": 8,
   "outputs": [
    {
     "name": "stdout",
     "output_type": "stream",
     "text": [
      "                                                         # Unnamed: 1  \\\n",
      "0                     #     Multi-Visit GALEX Kepler CAUSE        NaN   \n",
      "1                                                        #        NaN   \n",
      "2            #     1  ID               \\ [-] OBJECT GCK ID        NaN   \n",
      "3        #     2  TILE-VISIT_ID    \\ [-] OBJECT FITS IM...    NUMBERS   \n",
      "4        #     3  START_TIME       \\ [DAYS] EXPOSITION ...    JD ZERO   \n",
      "...                                                    ...        ...   \n",
      "1281895  GCK_J19042661+3854253 020821 37.41139 403.00  ...          0   \n",
      "1281896  GCK_J19042661+3854253 020822 44.25616 422.00  ...        256   \n",
      "1281897  GCK_J19042661+3854253 020823 45.14579 428.85  ...        256   \n",
      "1281898  GCK_J19042661+3854253 020824 45.55637 425.00  ...          0   \n",
      "1281899  GCK_J19042661+3854253 020825 45.89852 416.00  ...        256   \n",
      "\n",
      "        Unnamed: 2 Unnamed: 3 Unnamed: 4  Unnamed: 5 Unnamed: 6 Unnamed: 7  \\\n",
      "0              NaN        NaN        NaN         NaN        NaN        NaN   \n",
      "1              NaN        NaN        NaN         NaN        NaN        NaN   \n",
      "2              NaN        NaN        NaN         NaN        NaN        NaN   \n",
      "3            REFER         TO     IMAGE,         2.0       LAST    NUMBERS   \n",
      "4              NaN        NaN        NaN         NaN        NaN        NaN   \n",
      "...            ...        ...        ...         ...        ...        ...   \n",
      "1281895        NaN        NaN        NaN         NaN        NaN        NaN   \n",
      "1281896        NaN        NaN        NaN         NaN        NaN        NaN   \n",
      "1281897        NaN        NaN        NaN         NaN        NaN        NaN   \n",
      "1281898        NaN        NaN        NaN         NaN        NaN        NaN   \n",
      "1281899        NaN        NaN        NaN         NaN        NaN        NaN   \n",
      "\n",
      "        Unnamed: 8 Unnamed: 9 Unnamed: 10  \n",
      "0              NaN        NaN         NaN  \n",
      "1              NaN        NaN         NaN  \n",
      "2              NaN        NaN         NaN  \n",
      "3            REFER         TO       VISIT  \n",
      "4              NaN        NaN         NaN  \n",
      "...            ...        ...         ...  \n",
      "1281895        NaN        NaN         NaN  \n",
      "1281896        NaN        NaN         NaN  \n",
      "1281897        NaN        NaN         NaN  \n",
      "1281898        NaN        NaN         NaN  \n",
      "1281899        NaN        NaN         NaN  \n",
      "\n",
      "[1281900 rows x 11 columns]\n"
     ]
    }
   ],
   "source": [
    "dat = pd.read_fwf('mgck_1.txt')\n",
    "print(dat)"
   ],
   "metadata": {
    "collapsed": false,
    "ExecuteTime": {
     "end_time": "2023-06-28T04:01:46.025546Z",
     "start_time": "2023-06-28T04:01:36.576171Z"
    }
   }
  },
  {
   "cell_type": "code",
   "execution_count": 7,
   "outputs": [
    {
     "name": "stdout",
     "output_type": "stream",
     "text": [
      "range(1, 11)\n"
     ]
    }
   ],
   "source": [
    "# Asignar los números del 1 al 10 como cabeceras\n",
    "nuevas_cabeceras = range(1, 11)\n",
    "df = pd.concat([df], axis=1)\n",
    "df.columns = nuevas_cabeceras\n",
    "print(nuevas_cabeceras)"
   ],
   "metadata": {
    "collapsed": false,
    "ExecuteTime": {
     "end_time": "2023-06-28T03:48:48.488898Z",
     "start_time": "2023-06-28T03:48:48.150212Z"
    }
   }
  },
  {
   "cell_type": "code",
   "execution_count": 19,
   "outputs": [
    {
     "ename": "TypeError",
     "evalue": "DataFrame.set_axis() got an unexpected keyword argument 'inplace'",
     "output_type": "error",
     "traceback": [
      "\u001B[0;31m---------------------------------------------------------------------------\u001B[0m",
      "\u001B[0;31mTypeError\u001B[0m                                 Traceback (most recent call last)",
      "Cell \u001B[0;32mIn[19], line 6\u001B[0m\n\u001B[1;32m      4\u001B[0m \u001B[38;5;66;03m# Asignar los números del 1 al 10 como cabeceras\u001B[39;00m\n\u001B[1;32m      5\u001B[0m nuevas_cabeceras \u001B[38;5;241m=\u001B[39m \u001B[38;5;28mrange\u001B[39m(\u001B[38;5;241m1\u001B[39m, \u001B[38;5;241m11\u001B[39m)\n\u001B[0;32m----> 6\u001B[0m \u001B[43mdat\u001B[49m\u001B[38;5;241;43m.\u001B[39;49m\u001B[43mset_axis\u001B[49m\u001B[43m(\u001B[49m\u001B[43mnuevas_cabeceras\u001B[49m\u001B[43m,\u001B[49m\u001B[43m \u001B[49m\u001B[43maxis\u001B[49m\u001B[38;5;241;43m=\u001B[39;49m\u001B[38;5;241;43m1\u001B[39;49m\u001B[43m,\u001B[49m\u001B[43m \u001B[49m\u001B[43minplace\u001B[49m\u001B[38;5;241;43m=\u001B[39;49m\u001B[38;5;28;43;01mTrue\u001B[39;49;00m\u001B[43m)\u001B[49m\n\u001B[1;32m      8\u001B[0m \u001B[38;5;66;03m# Guardar el DataFrame con las nuevas cabeceras en un archivo CSV\u001B[39;00m\n\u001B[1;32m      9\u001B[0m \u001B[38;5;66;03m# df.to_csv('archivo_nuevo.csv', sep=',', index=False)\u001B[39;00m\n",
      "\u001B[0;31mTypeError\u001B[0m: DataFrame.set_axis() got an unexpected keyword argument 'inplace'"
     ]
    }
   ],
   "source": [
    "# Leer el archivo CSV\n",
    "dat = pd.read_csv('mgck_1.txt', sep='\\s+', comment='#')\n",
    "\n",
    "# Asignar los números del 1 al 10 como cabeceras\n",
    "nuevas_cabeceras = range(1, 11)\n",
    "dat.set_axis(nuevas_cabeceras, axis=1, inplace=True)\n",
    "\n",
    "# Guardar el DataFrame con las nuevas cabeceras en un archivo CSV\n",
    "# df.to_csv('archivo_nuevo.csv', sep=',', index=False)"
   ],
   "metadata": {
    "collapsed": false,
    "ExecuteTime": {
     "end_time": "2023-06-27T02:02:55.773281Z",
     "start_time": "2023-06-27T02:02:53.994888Z"
    }
   }
  },
  {
   "cell_type": "code",
   "execution_count": 20,
   "outputs": [
    {
     "ename": "ValueError",
     "evalue": "Length mismatch: Expected axis has 1 elements, new values have 10 elements",
     "output_type": "error",
     "traceback": [
      "\u001B[0;31m---------------------------------------------------------------------------\u001B[0m",
      "\u001B[0;31mValueError\u001B[0m                                Traceback (most recent call last)",
      "Cell \u001B[0;32mIn[20], line 6\u001B[0m\n\u001B[1;32m      4\u001B[0m \u001B[38;5;66;03m# Asignar los números del 1 al 10 como cabeceras\u001B[39;00m\n\u001B[1;32m      5\u001B[0m nuevas_cabeceras \u001B[38;5;241m=\u001B[39m \u001B[38;5;28mrange\u001B[39m(\u001B[38;5;241m1\u001B[39m, \u001B[38;5;241m11\u001B[39m)\n\u001B[0;32m----> 6\u001B[0m df1 \u001B[38;5;241m=\u001B[39m \u001B[43mdf1\u001B[49m\u001B[38;5;241;43m.\u001B[39;49m\u001B[43mset_axis\u001B[49m\u001B[43m(\u001B[49m\u001B[43mnuevas_cabeceras\u001B[49m\u001B[43m,\u001B[49m\u001B[43m \u001B[49m\u001B[43maxis\u001B[49m\u001B[38;5;241;43m=\u001B[39;49m\u001B[38;5;241;43m1\u001B[39;49m\u001B[43m)\u001B[49m\n\u001B[1;32m      8\u001B[0m \u001B[38;5;66;03m# Guardar el DataFrame con las nuevas cabeceras en un archivo CSV\u001B[39;00m\n\u001B[1;32m      9\u001B[0m df\u001B[38;5;241m.\u001B[39mto_csv(\u001B[38;5;124m'\u001B[39m\u001B[38;5;124marchivo_nuevo.csv\u001B[39m\u001B[38;5;124m'\u001B[39m, sep\u001B[38;5;241m=\u001B[39m\u001B[38;5;124m'\u001B[39m\u001B[38;5;124m,\u001B[39m\u001B[38;5;124m'\u001B[39m, index\u001B[38;5;241m=\u001B[39m\u001B[38;5;28;01mFalse\u001B[39;00m)\n",
      "File \u001B[0;32m~/pjViai/pythonClass/venv/lib/python3.10/site-packages/pandas/core/frame.py:5034\u001B[0m, in \u001B[0;36mDataFrame.set_axis\u001B[0;34m(self, labels, axis, copy)\u001B[0m\n\u001B[1;32m   4997\u001B[0m \u001B[38;5;129m@Appender\u001B[39m(\n\u001B[1;32m   4998\u001B[0m \u001B[38;5;250m    \u001B[39m\u001B[38;5;124;03m\"\"\"\u001B[39;00m\n\u001B[1;32m   4999\u001B[0m \u001B[38;5;124;03m    Examples\u001B[39;00m\n\u001B[0;32m   (...)\u001B[0m\n\u001B[1;32m   5032\u001B[0m     copy: \u001B[38;5;28mbool\u001B[39m \u001B[38;5;241m|\u001B[39m \u001B[38;5;28;01mNone\u001B[39;00m \u001B[38;5;241m=\u001B[39m \u001B[38;5;28;01mNone\u001B[39;00m,\n\u001B[1;32m   5033\u001B[0m ) \u001B[38;5;241m-\u001B[39m\u001B[38;5;241m>\u001B[39m DataFrame:\n\u001B[0;32m-> 5034\u001B[0m     \u001B[38;5;28;01mreturn\u001B[39;00m \u001B[38;5;28;43msuper\u001B[39;49m\u001B[43m(\u001B[49m\u001B[43m)\u001B[49m\u001B[38;5;241;43m.\u001B[39;49m\u001B[43mset_axis\u001B[49m\u001B[43m(\u001B[49m\u001B[43mlabels\u001B[49m\u001B[43m,\u001B[49m\u001B[43m \u001B[49m\u001B[43maxis\u001B[49m\u001B[38;5;241;43m=\u001B[39;49m\u001B[43maxis\u001B[49m\u001B[43m,\u001B[49m\u001B[43m \u001B[49m\u001B[43mcopy\u001B[49m\u001B[38;5;241;43m=\u001B[39;49m\u001B[43mcopy\u001B[49m\u001B[43m)\u001B[49m\n",
      "File \u001B[0;32m~/pjViai/pythonClass/venv/lib/python3.10/site-packages/pandas/core/generic.py:708\u001B[0m, in \u001B[0;36mNDFrame.set_axis\u001B[0;34m(self, labels, axis, copy)\u001B[0m\n\u001B[1;32m    672\u001B[0m \u001B[38;5;28;01mdef\u001B[39;00m \u001B[38;5;21mset_axis\u001B[39m(\n\u001B[1;32m    673\u001B[0m     \u001B[38;5;28mself\u001B[39m: NDFrameT,\n\u001B[1;32m    674\u001B[0m     labels,\n\u001B[0;32m   (...)\u001B[0m\n\u001B[1;32m    677\u001B[0m     copy: bool_t \u001B[38;5;241m|\u001B[39m \u001B[38;5;28;01mNone\u001B[39;00m \u001B[38;5;241m=\u001B[39m \u001B[38;5;28;01mNone\u001B[39;00m,\n\u001B[1;32m    678\u001B[0m ) \u001B[38;5;241m-\u001B[39m\u001B[38;5;241m>\u001B[39m NDFrameT:\n\u001B[1;32m    679\u001B[0m \u001B[38;5;250m    \u001B[39m\u001B[38;5;124;03m\"\"\"\u001B[39;00m\n\u001B[1;32m    680\u001B[0m \u001B[38;5;124;03m    Assign desired index to given axis.\u001B[39;00m\n\u001B[1;32m    681\u001B[0m \n\u001B[0;32m   (...)\u001B[0m\n\u001B[1;32m    706\u001B[0m \u001B[38;5;124;03m    %(klass)s.rename_axis : Alter the name of the index%(see_also_sub)s.\u001B[39;00m\n\u001B[1;32m    707\u001B[0m \u001B[38;5;124;03m    \"\"\"\u001B[39;00m\n\u001B[0;32m--> 708\u001B[0m     \u001B[38;5;28;01mreturn\u001B[39;00m \u001B[38;5;28;43mself\u001B[39;49m\u001B[38;5;241;43m.\u001B[39;49m\u001B[43m_set_axis_nocheck\u001B[49m\u001B[43m(\u001B[49m\u001B[43mlabels\u001B[49m\u001B[43m,\u001B[49m\u001B[43m \u001B[49m\u001B[43maxis\u001B[49m\u001B[43m,\u001B[49m\u001B[43m \u001B[49m\u001B[43minplace\u001B[49m\u001B[38;5;241;43m=\u001B[39;49m\u001B[38;5;28;43;01mFalse\u001B[39;49;00m\u001B[43m,\u001B[49m\u001B[43m \u001B[49m\u001B[43mcopy\u001B[49m\u001B[38;5;241;43m=\u001B[39;49m\u001B[43mcopy\u001B[49m\u001B[43m)\u001B[49m\n",
      "File \u001B[0;32m~/pjViai/pythonClass/venv/lib/python3.10/site-packages/pandas/core/generic.py:720\u001B[0m, in \u001B[0;36mNDFrame._set_axis_nocheck\u001B[0;34m(self, labels, axis, inplace, copy)\u001B[0m\n\u001B[1;32m    716\u001B[0m \u001B[38;5;28;01melse\u001B[39;00m:\n\u001B[1;32m    717\u001B[0m     \u001B[38;5;66;03m# With copy=False, we create a new object but don't copy the\u001B[39;00m\n\u001B[1;32m    718\u001B[0m     \u001B[38;5;66;03m#  underlying data.\u001B[39;00m\n\u001B[1;32m    719\u001B[0m     obj \u001B[38;5;241m=\u001B[39m \u001B[38;5;28mself\u001B[39m\u001B[38;5;241m.\u001B[39mcopy(deep\u001B[38;5;241m=\u001B[39mcopy \u001B[38;5;129;01mand\u001B[39;00m \u001B[38;5;129;01mnot\u001B[39;00m using_copy_on_write())\n\u001B[0;32m--> 720\u001B[0m     \u001B[38;5;28;43msetattr\u001B[39;49m\u001B[43m(\u001B[49m\u001B[43mobj\u001B[49m\u001B[43m,\u001B[49m\u001B[43m \u001B[49m\u001B[43mobj\u001B[49m\u001B[38;5;241;43m.\u001B[39;49m\u001B[43m_get_axis_name\u001B[49m\u001B[43m(\u001B[49m\u001B[43maxis\u001B[49m\u001B[43m)\u001B[49m\u001B[43m,\u001B[49m\u001B[43m \u001B[49m\u001B[43mlabels\u001B[49m\u001B[43m)\u001B[49m\n\u001B[1;32m    721\u001B[0m     \u001B[38;5;28;01mreturn\u001B[39;00m obj\n",
      "File \u001B[0;32m~/pjViai/pythonClass/venv/lib/python3.10/site-packages/pandas/core/generic.py:6002\u001B[0m, in \u001B[0;36mNDFrame.__setattr__\u001B[0;34m(self, name, value)\u001B[0m\n\u001B[1;32m   6000\u001B[0m \u001B[38;5;28;01mtry\u001B[39;00m:\n\u001B[1;32m   6001\u001B[0m     \u001B[38;5;28mobject\u001B[39m\u001B[38;5;241m.\u001B[39m\u001B[38;5;21m__getattribute__\u001B[39m(\u001B[38;5;28mself\u001B[39m, name)\n\u001B[0;32m-> 6002\u001B[0m     \u001B[38;5;28;01mreturn\u001B[39;00m \u001B[38;5;28;43mobject\u001B[39;49m\u001B[38;5;241;43m.\u001B[39;49m\u001B[38;5;21;43m__setattr__\u001B[39;49m\u001B[43m(\u001B[49m\u001B[38;5;28;43mself\u001B[39;49m\u001B[43m,\u001B[49m\u001B[43m \u001B[49m\u001B[43mname\u001B[49m\u001B[43m,\u001B[49m\u001B[43m \u001B[49m\u001B[43mvalue\u001B[49m\u001B[43m)\u001B[49m\n\u001B[1;32m   6003\u001B[0m \u001B[38;5;28;01mexcept\u001B[39;00m \u001B[38;5;167;01mAttributeError\u001B[39;00m:\n\u001B[1;32m   6004\u001B[0m     \u001B[38;5;28;01mpass\u001B[39;00m\n",
      "File \u001B[0;32m~/pjViai/pythonClass/venv/lib/python3.10/site-packages/pandas/_libs/properties.pyx:69\u001B[0m, in \u001B[0;36mpandas._libs.properties.AxisProperty.__set__\u001B[0;34m()\u001B[0m\n",
      "File \u001B[0;32m~/pjViai/pythonClass/venv/lib/python3.10/site-packages/pandas/core/generic.py:730\u001B[0m, in \u001B[0;36mNDFrame._set_axis\u001B[0;34m(self, axis, labels)\u001B[0m\n\u001B[1;32m    725\u001B[0m \u001B[38;5;250m\u001B[39m\u001B[38;5;124;03m\"\"\"\u001B[39;00m\n\u001B[1;32m    726\u001B[0m \u001B[38;5;124;03mThis is called from the cython code when we set the `index` attribute\u001B[39;00m\n\u001B[1;32m    727\u001B[0m \u001B[38;5;124;03mdirectly, e.g. `series.index = [1, 2, 3]`.\u001B[39;00m\n\u001B[1;32m    728\u001B[0m \u001B[38;5;124;03m\"\"\"\u001B[39;00m\n\u001B[1;32m    729\u001B[0m labels \u001B[38;5;241m=\u001B[39m ensure_index(labels)\n\u001B[0;32m--> 730\u001B[0m \u001B[38;5;28;43mself\u001B[39;49m\u001B[38;5;241;43m.\u001B[39;49m\u001B[43m_mgr\u001B[49m\u001B[38;5;241;43m.\u001B[39;49m\u001B[43mset_axis\u001B[49m\u001B[43m(\u001B[49m\u001B[43maxis\u001B[49m\u001B[43m,\u001B[49m\u001B[43m \u001B[49m\u001B[43mlabels\u001B[49m\u001B[43m)\u001B[49m\n\u001B[1;32m    731\u001B[0m \u001B[38;5;28mself\u001B[39m\u001B[38;5;241m.\u001B[39m_clear_item_cache()\n",
      "File \u001B[0;32m~/pjViai/pythonClass/venv/lib/python3.10/site-packages/pandas/core/internals/managers.py:225\u001B[0m, in \u001B[0;36mBaseBlockManager.set_axis\u001B[0;34m(self, axis, new_labels)\u001B[0m\n\u001B[1;32m    223\u001B[0m \u001B[38;5;28;01mdef\u001B[39;00m \u001B[38;5;21mset_axis\u001B[39m(\u001B[38;5;28mself\u001B[39m, axis: AxisInt, new_labels: Index) \u001B[38;5;241m-\u001B[39m\u001B[38;5;241m>\u001B[39m \u001B[38;5;28;01mNone\u001B[39;00m:\n\u001B[1;32m    224\u001B[0m     \u001B[38;5;66;03m# Caller is responsible for ensuring we have an Index object.\u001B[39;00m\n\u001B[0;32m--> 225\u001B[0m     \u001B[38;5;28;43mself\u001B[39;49m\u001B[38;5;241;43m.\u001B[39;49m\u001B[43m_validate_set_axis\u001B[49m\u001B[43m(\u001B[49m\u001B[43maxis\u001B[49m\u001B[43m,\u001B[49m\u001B[43m \u001B[49m\u001B[43mnew_labels\u001B[49m\u001B[43m)\u001B[49m\n\u001B[1;32m    226\u001B[0m     \u001B[38;5;28mself\u001B[39m\u001B[38;5;241m.\u001B[39maxes[axis] \u001B[38;5;241m=\u001B[39m new_labels\n",
      "File \u001B[0;32m~/pjViai/pythonClass/venv/lib/python3.10/site-packages/pandas/core/internals/base.py:70\u001B[0m, in \u001B[0;36mDataManager._validate_set_axis\u001B[0;34m(self, axis, new_labels)\u001B[0m\n\u001B[1;32m     67\u001B[0m     \u001B[38;5;28;01mpass\u001B[39;00m\n\u001B[1;32m     69\u001B[0m \u001B[38;5;28;01melif\u001B[39;00m new_len \u001B[38;5;241m!=\u001B[39m old_len:\n\u001B[0;32m---> 70\u001B[0m     \u001B[38;5;28;01mraise\u001B[39;00m \u001B[38;5;167;01mValueError\u001B[39;00m(\n\u001B[1;32m     71\u001B[0m         \u001B[38;5;124mf\u001B[39m\u001B[38;5;124m\"\u001B[39m\u001B[38;5;124mLength mismatch: Expected axis has \u001B[39m\u001B[38;5;132;01m{\u001B[39;00mold_len\u001B[38;5;132;01m}\u001B[39;00m\u001B[38;5;124m elements, new \u001B[39m\u001B[38;5;124m\"\u001B[39m\n\u001B[1;32m     72\u001B[0m         \u001B[38;5;124mf\u001B[39m\u001B[38;5;124m\"\u001B[39m\u001B[38;5;124mvalues have \u001B[39m\u001B[38;5;132;01m{\u001B[39;00mnew_len\u001B[38;5;132;01m}\u001B[39;00m\u001B[38;5;124m elements\u001B[39m\u001B[38;5;124m\"\u001B[39m\n\u001B[1;32m     73\u001B[0m     )\n",
      "\u001B[0;31mValueError\u001B[0m: Length mismatch: Expected axis has 1 elements, new values have 10 elements"
     ]
    }
   ],
   "source": [
    "# Leer el archivo CSV\n",
    "df1 = pd.read_csv('archivo.csv', sep='\\s+')\n",
    "\n",
    "# Asignar los números del 1 al 10 como cabeceras\n",
    "nuevas_cabeceras = range(1, 11)\n",
    "df1 = df1.set_axis(nuevas_cabeceras, axis=1)\n",
    "\n",
    "# Guardar el DataFrame con las nuevas cabeceras en un archivo CSV\n",
    "df.to_csv('archivo_nuevo.csv', sep=',', index=False)\n"
   ],
   "metadata": {
    "collapsed": false,
    "ExecuteTime": {
     "end_time": "2023-06-27T02:04:11.236404Z",
     "start_time": "2023-06-27T02:04:07.942278Z"
    }
   }
  },
  {
   "cell_type": "code",
   "execution_count": 21,
   "outputs": [
    {
     "ename": "ValueError",
     "evalue": "Length mismatch: Expected axis has 1 elements, new values have 10 elements",
     "output_type": "error",
     "traceback": [
      "\u001B[0;31m---------------------------------------------------------------------------\u001B[0m",
      "\u001B[0;31mValueError\u001B[0m                                Traceback (most recent call last)",
      "Cell \u001B[0;32mIn[21], line 6\u001B[0m\n\u001B[1;32m      4\u001B[0m \u001B[38;5;66;03m# Asignar los números del 1 al 10 como cabeceras\u001B[39;00m\n\u001B[1;32m      5\u001B[0m nuevas_cabeceras \u001B[38;5;241m=\u001B[39m \u001B[38;5;28mrange\u001B[39m(\u001B[38;5;241m1\u001B[39m, \u001B[38;5;241m11\u001B[39m)\n\u001B[0;32m----> 6\u001B[0m \u001B[43mdf\u001B[49m\u001B[38;5;241;43m.\u001B[39;49m\u001B[43mcolumns\u001B[49m \u001B[38;5;241m=\u001B[39m nuevas_cabeceras\n\u001B[1;32m      8\u001B[0m \u001B[38;5;66;03m# Guardar el DataFrame con las nuevas cabeceras en un archivo CSV\u001B[39;00m\n\u001B[1;32m      9\u001B[0m df\u001B[38;5;241m.\u001B[39mto_csv(\u001B[38;5;124m'\u001B[39m\u001B[38;5;124marchivo_nuevo.csv\u001B[39m\u001B[38;5;124m'\u001B[39m, sep\u001B[38;5;241m=\u001B[39m\u001B[38;5;124m'\u001B[39m\u001B[38;5;124m,\u001B[39m\u001B[38;5;124m'\u001B[39m, index\u001B[38;5;241m=\u001B[39m\u001B[38;5;28;01mFalse\u001B[39;00m)\n",
      "File \u001B[0;32m~/pjViai/pythonClass/venv/lib/python3.10/site-packages/pandas/core/generic.py:6002\u001B[0m, in \u001B[0;36mNDFrame.__setattr__\u001B[0;34m(self, name, value)\u001B[0m\n\u001B[1;32m   6000\u001B[0m \u001B[38;5;28;01mtry\u001B[39;00m:\n\u001B[1;32m   6001\u001B[0m     \u001B[38;5;28mobject\u001B[39m\u001B[38;5;241m.\u001B[39m\u001B[38;5;21m__getattribute__\u001B[39m(\u001B[38;5;28mself\u001B[39m, name)\n\u001B[0;32m-> 6002\u001B[0m     \u001B[38;5;28;01mreturn\u001B[39;00m \u001B[38;5;28;43mobject\u001B[39;49m\u001B[38;5;241;43m.\u001B[39;49m\u001B[38;5;21;43m__setattr__\u001B[39;49m\u001B[43m(\u001B[49m\u001B[38;5;28;43mself\u001B[39;49m\u001B[43m,\u001B[49m\u001B[43m \u001B[49m\u001B[43mname\u001B[49m\u001B[43m,\u001B[49m\u001B[43m \u001B[49m\u001B[43mvalue\u001B[49m\u001B[43m)\u001B[49m\n\u001B[1;32m   6003\u001B[0m \u001B[38;5;28;01mexcept\u001B[39;00m \u001B[38;5;167;01mAttributeError\u001B[39;00m:\n\u001B[1;32m   6004\u001B[0m     \u001B[38;5;28;01mpass\u001B[39;00m\n",
      "File \u001B[0;32m~/pjViai/pythonClass/venv/lib/python3.10/site-packages/pandas/_libs/properties.pyx:69\u001B[0m, in \u001B[0;36mpandas._libs.properties.AxisProperty.__set__\u001B[0;34m()\u001B[0m\n",
      "File \u001B[0;32m~/pjViai/pythonClass/venv/lib/python3.10/site-packages/pandas/core/generic.py:730\u001B[0m, in \u001B[0;36mNDFrame._set_axis\u001B[0;34m(self, axis, labels)\u001B[0m\n\u001B[1;32m    725\u001B[0m \u001B[38;5;250m\u001B[39m\u001B[38;5;124;03m\"\"\"\u001B[39;00m\n\u001B[1;32m    726\u001B[0m \u001B[38;5;124;03mThis is called from the cython code when we set the `index` attribute\u001B[39;00m\n\u001B[1;32m    727\u001B[0m \u001B[38;5;124;03mdirectly, e.g. `series.index = [1, 2, 3]`.\u001B[39;00m\n\u001B[1;32m    728\u001B[0m \u001B[38;5;124;03m\"\"\"\u001B[39;00m\n\u001B[1;32m    729\u001B[0m labels \u001B[38;5;241m=\u001B[39m ensure_index(labels)\n\u001B[0;32m--> 730\u001B[0m \u001B[38;5;28;43mself\u001B[39;49m\u001B[38;5;241;43m.\u001B[39;49m\u001B[43m_mgr\u001B[49m\u001B[38;5;241;43m.\u001B[39;49m\u001B[43mset_axis\u001B[49m\u001B[43m(\u001B[49m\u001B[43maxis\u001B[49m\u001B[43m,\u001B[49m\u001B[43m \u001B[49m\u001B[43mlabels\u001B[49m\u001B[43m)\u001B[49m\n\u001B[1;32m    731\u001B[0m \u001B[38;5;28mself\u001B[39m\u001B[38;5;241m.\u001B[39m_clear_item_cache()\n",
      "File \u001B[0;32m~/pjViai/pythonClass/venv/lib/python3.10/site-packages/pandas/core/internals/managers.py:225\u001B[0m, in \u001B[0;36mBaseBlockManager.set_axis\u001B[0;34m(self, axis, new_labels)\u001B[0m\n\u001B[1;32m    223\u001B[0m \u001B[38;5;28;01mdef\u001B[39;00m \u001B[38;5;21mset_axis\u001B[39m(\u001B[38;5;28mself\u001B[39m, axis: AxisInt, new_labels: Index) \u001B[38;5;241m-\u001B[39m\u001B[38;5;241m>\u001B[39m \u001B[38;5;28;01mNone\u001B[39;00m:\n\u001B[1;32m    224\u001B[0m     \u001B[38;5;66;03m# Caller is responsible for ensuring we have an Index object.\u001B[39;00m\n\u001B[0;32m--> 225\u001B[0m     \u001B[38;5;28;43mself\u001B[39;49m\u001B[38;5;241;43m.\u001B[39;49m\u001B[43m_validate_set_axis\u001B[49m\u001B[43m(\u001B[49m\u001B[43maxis\u001B[49m\u001B[43m,\u001B[49m\u001B[43m \u001B[49m\u001B[43mnew_labels\u001B[49m\u001B[43m)\u001B[49m\n\u001B[1;32m    226\u001B[0m     \u001B[38;5;28mself\u001B[39m\u001B[38;5;241m.\u001B[39maxes[axis] \u001B[38;5;241m=\u001B[39m new_labels\n",
      "File \u001B[0;32m~/pjViai/pythonClass/venv/lib/python3.10/site-packages/pandas/core/internals/base.py:70\u001B[0m, in \u001B[0;36mDataManager._validate_set_axis\u001B[0;34m(self, axis, new_labels)\u001B[0m\n\u001B[1;32m     67\u001B[0m     \u001B[38;5;28;01mpass\u001B[39;00m\n\u001B[1;32m     69\u001B[0m \u001B[38;5;28;01melif\u001B[39;00m new_len \u001B[38;5;241m!=\u001B[39m old_len:\n\u001B[0;32m---> 70\u001B[0m     \u001B[38;5;28;01mraise\u001B[39;00m \u001B[38;5;167;01mValueError\u001B[39;00m(\n\u001B[1;32m     71\u001B[0m         \u001B[38;5;124mf\u001B[39m\u001B[38;5;124m\"\u001B[39m\u001B[38;5;124mLength mismatch: Expected axis has \u001B[39m\u001B[38;5;132;01m{\u001B[39;00mold_len\u001B[38;5;132;01m}\u001B[39;00m\u001B[38;5;124m elements, new \u001B[39m\u001B[38;5;124m\"\u001B[39m\n\u001B[1;32m     72\u001B[0m         \u001B[38;5;124mf\u001B[39m\u001B[38;5;124m\"\u001B[39m\u001B[38;5;124mvalues have \u001B[39m\u001B[38;5;132;01m{\u001B[39;00mnew_len\u001B[38;5;132;01m}\u001B[39;00m\u001B[38;5;124m elements\u001B[39m\u001B[38;5;124m\"\u001B[39m\n\u001B[1;32m     73\u001B[0m     )\n",
      "\u001B[0;31mValueError\u001B[0m: Length mismatch: Expected axis has 1 elements, new values have 10 elements"
     ]
    }
   ],
   "source": [
    "# Leer el archivo CSV\n",
    "df = pd.read_csv('archivo.csv', sep='\\s+')\n",
    "\n",
    "# Asignar los números del 1 al 10 como cabeceras\n",
    "nuevas_cabeceras = range(1, 11)\n",
    "df.columns = nuevas_cabeceras\n",
    "\n",
    "# Guardar el DataFrame con las nuevas cabeceras en un archivo CSV\n",
    "df.to_csv('archivo_nuevo.csv', sep=',', index=False)"
   ],
   "metadata": {
    "collapsed": false,
    "ExecuteTime": {
     "end_time": "2023-06-27T02:05:12.393387Z",
     "start_time": "2023-06-27T02:05:10.302014Z"
    }
   }
  },
  {
   "cell_type": "code",
   "execution_count": 23,
   "outputs": [],
   "source": [
    "import pandas as pd\n",
    "\n",
    "# Leer el archivo CSV con una columna\n",
    "df = pd.read_csv('archivo.csv', sep='\\s+', comment='#')\n",
    "\n",
    "# Asignar los números del 1 al 10 como cabeceras\n",
    "nuevas_cabeceras = range(1, 11)\n",
    "df = pd.concat([df] * 10, axis=1)\n",
    "df.columns = nuevas_cabeceras\n",
    "\n",
    "# Guardar el DataFrame con las nuevas cabeceras en un archivo CSV\n",
    "df.to_csv('archivo_nuevo.csv', sep=',', index=False)\n"
   ],
   "metadata": {
    "collapsed": false,
    "ExecuteTime": {
     "end_time": "2023-06-27T02:07:41.225072Z",
     "start_time": "2023-06-27T02:07:08.360620Z"
    }
   }
  },
  {
   "cell_type": "code",
   "execution_count": 10,
   "outputs": [
    {
     "name": "stdout",
     "output_type": "stream",
     "text": [
      "         ID  TILE-VISIT_ID  START_TIME  EXP_TIME  NUV_FLUX  NUV_FLUXERR  \\\n",
      "0       NaN            NaN         NaN       NaN       NaN          NaN   \n",
      "1       NaN            NaN         NaN       NaN       NaN          NaN   \n",
      "2       NaN            NaN         NaN       NaN       NaN          NaN   \n",
      "3       NaN            NaN         NaN       NaN       NaN          NaN   \n",
      "4       NaN            NaN         NaN       NaN       NaN          NaN   \n",
      "...      ..            ...         ...       ...       ...          ...   \n",
      "1281881 NaN            NaN         NaN       NaN       NaN          NaN   \n",
      "1281882 NaN            NaN         NaN       NaN       NaN          NaN   \n",
      "1281883 NaN            NaN         NaN       NaN       NaN          NaN   \n",
      "1281884 NaN            NaN         NaN       NaN       NaN          NaN   \n",
      "1281885 NaN            NaN         NaN       NaN       NaN          NaN   \n",
      "\n",
      "         BKGRND_FLUX  BKGRND_FLUXERR  SEXTRACTOR_FLAGS  ARTIFACTS_FLAGS  \n",
      "0                NaN             NaN               NaN              NaN  \n",
      "1                NaN             NaN               NaN              NaN  \n",
      "2                NaN             NaN               NaN              NaN  \n",
      "3                NaN             NaN               NaN              NaN  \n",
      "4                NaN             NaN               NaN              NaN  \n",
      "...              ...             ...               ...              ...  \n",
      "1281881          NaN             NaN               NaN              NaN  \n",
      "1281882          NaN             NaN               NaN              NaN  \n",
      "1281883          NaN             NaN               NaN              NaN  \n",
      "1281884          NaN             NaN               NaN              NaN  \n",
      "1281885          NaN             NaN               NaN              NaN  \n",
      "\n",
      "[1281886 rows x 10 columns]\n"
     ]
    }
   ],
   "source": [
    "# Definir los nombres de las columnas\n",
    "columns = ['ID', 'TILE-VISIT_ID', 'START_TIME', 'EXP_TIME', 'NUV_FLUX', 'NUV_FLUXERR',\n",
    "           'BKGRND_FLUX', 'BKGRND_FLUXERR', 'SEXTRACTOR_FLAGS', 'ARTIFACTS_FLAGS']\n",
    "\n",
    "data = pd.DataFrame(df, columns=columns)\n",
    "\n",
    "print(data)"
   ],
   "metadata": {
    "collapsed": false,
    "ExecuteTime": {
     "end_time": "2023-06-28T04:19:59.215981Z",
     "start_time": "2023-06-28T04:19:58.941265Z"
    }
   }
  },
  {
   "cell_type": "code",
   "execution_count": 18,
   "outputs": [
    {
     "name": "stderr",
     "output_type": "stream",
     "text": [
      "/var/folders/mc/83rln3655kggjcqcpvdg_24h0000gn/T/ipykernel_6934/1140046567.py:8: DtypeWarning: Columns (2,3,4,5,6,7,8,9) have mixed types. Specify dtype option on import or set low_memory=False.\n",
      "  df = pd.read_csv(ruta_archivo, skiprows=11, sep='\\s+', usecols=range(10))\n"
     ]
    },
    {
     "name": "stdout",
     "output_type": "stream",
     "text": [
      "                            ID  TILE-VISIT_ID START_TIME EXP_TIME NUV_FLUX  \\\n",
      "1281884  GCK_J19042661+3854253        20821.0   37.41139    403.0  1.10284   \n",
      "1281885  GCK_J19042661+3854253        20822.0   44.25616    422.0  1.18317   \n",
      "1281886  GCK_J19042661+3854253        20823.0   45.14579   428.85  1.05094   \n",
      "1281887  GCK_J19042661+3854253        20824.0   45.55637    425.0  1.23562   \n",
      "1281888  GCK_J19042661+3854253        20825.0   45.89852    416.0  0.94349   \n",
      "\n",
      "        NUV_FLUXERR BKGRND_FLUX BKGRND_FLUXERR SEXTRACTOR_FLAGS  \\\n",
      "1281884       0.111     0.00268        0.02815                0   \n",
      "1281885     0.11039     0.00264        0.02731                0   \n",
      "1281886     0.10537     0.00259         0.0268                0   \n",
      "1281887     0.11124     0.00264        0.02719                0   \n",
      "1281888     0.10271     0.00264        0.02747                0   \n",
      "\n",
      "        ARTIFACTS_FLAGS  \n",
      "1281884               0  \n",
      "1281885             256  \n",
      "1281886             256  \n",
      "1281887               0  \n",
      "1281888             256  \n"
     ]
    }
   ],
   "source": [
    "import pandas as pd\n",
    "\n",
    "# Especifica la ruta del archivo de texto\n",
    "ruta_archivo = 'mgck_1.txt'\n",
    "\n",
    "# Lee el archivo de texto y omite las primeras 11 líneas (comentarios y descripciones)\n",
    "# df = pd.read_csv(ruta_archivo, skiprows=11, sep='\\s+')\n",
    "df = pd.read_csv(ruta_archivo, skiprows=11, sep='\\s+', usecols=range(10))\n",
    "\n",
    "# Renombra las columnas según la descripción de la cabecera\n",
    "columnas = [\n",
    "    'ID', 'TILE-VISIT_ID', 'START_TIME', 'EXP_TIME', 'NUV_FLUX', 'NUV_FLUXERR', 'BKGRND_FLUX', 'BKGRND_FLUXERR',\n",
    "    'SEXTRACTOR_FLAGS', 'ARTIFACTS_FLAGS'\n",
    "]\n",
    "df.columns = columnas\n",
    "\n",
    "# Muestra el DataFrame\n",
    "print(df.tail())"
   ],
   "metadata": {
    "collapsed": false,
    "ExecuteTime": {
     "end_time": "2023-06-28T04:31:56.085261Z",
     "start_time": "2023-06-28T04:31:45.032809Z"
    }
   }
  },
  {
   "cell_type": "code",
   "execution_count": 15,
   "outputs": [
    {
     "name": "stdout",
     "output_type": "stream",
     "text": [
      "['GCK_J18382163+4329309 010101  1.81843  82.00    0.60598    0.34574    0.00188    0.08157   0  256'\n",
      " 'GCK_J18382163+4329309 010102  5.85535  88.00    0.98813    0.31720    0.00184    0.07791   0    0'\n",
      " 'GCK_J18382163+4329309 010103  6.88178  87.00    0.73351    0.30345    0.00184    0.07826   0    0'\n",
      " ...\n",
      " 'GCK_J19042661+3854253 020823 45.14579 428.85    1.05094    0.10537    0.00259    0.02680   0  256'\n",
      " 'GCK_J19042661+3854253 020824 45.55637 425.00    1.23562    0.11124    0.00264    0.02719   0    0'\n",
      " 'GCK_J19042661+3854253 020825 45.89852 416.00    0.94349    0.10271    0.00264    0.02747   0  256']\n"
     ]
    }
   ],
   "source": [
    "import pandas as pd\n",
    "import numpy as np\n",
    "# Especifica la ruta del archivo de texto\n",
    "ruta_archivo = 'mgck_1.txt'\n",
    "\n",
    "data = np.loadtxt('mgck_1.txt', dtype=str,delimiter=',')\n",
    "print(data)"
   ],
   "metadata": {
    "collapsed": false,
    "ExecuteTime": {
     "end_time": "2023-06-28T04:29:12.260626Z",
     "start_time": "2023-06-28T04:29:06.758415Z"
    }
   }
  },
  {
   "cell_type": "code",
   "execution_count": null,
   "outputs": [],
   "source": [],
   "metadata": {
    "collapsed": false
   }
  }
 ],
 "metadata": {
  "kernelspec": {
   "display_name": "Python 3",
   "language": "python",
   "name": "python3"
  },
  "language_info": {
   "codemirror_mode": {
    "name": "ipython",
    "version": 2
   },
   "file_extension": ".py",
   "mimetype": "text/x-python",
   "name": "python",
   "nbconvert_exporter": "python",
   "pygments_lexer": "ipython2",
   "version": "2.7.6"
  }
 },
 "nbformat": 4,
 "nbformat_minor": 0
}
